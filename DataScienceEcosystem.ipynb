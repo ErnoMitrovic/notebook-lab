{
 "cells": [
  {
   "cell_type": "markdown",
   "id": "82d75fc5-47bd-4c73-a21b-1077c24284fd",
   "metadata": {},
   "source": [
    "# Data Science Tools and Ecosystem"
   ]
  },
  {
   "cell_type": "markdown",
   "id": "9630e994-41d4-49e8-befc-ad96d4779c8e",
   "metadata": {},
   "source": [
    "## Author\n",
    "Ernesto Miranda Solis"
   ]
  },
  {
   "cell_type": "markdown",
   "id": "f50a2252-756c-4dc2-9a23-4bcecbc526ad",
   "metadata": {},
   "source": [
    "In this notebook, Data Science Tools and Ecosystem are summarized."
   ]
  },
  {
   "cell_type": "markdown",
   "id": "69b95348-867b-401c-8902-ae1fdc40bc24",
   "metadata": {},
   "source": [
    "**Objectives:**\n",
    "- List of popular languages for Data Science\n",
    "- List some commonly used libraries\n",
    "- List of data science tools\n",
    "- Examples of arithmetic expressions"
   ]
  },
  {
   "cell_type": "markdown",
   "id": "10f6e746-dfd7-430c-9d2a-bdd1cb075acb",
   "metadata": {},
   "source": [
    "Some of the popular languages that Data Scientists use are:\n",
    "1. Julia\n",
    "2. Python\n",
    "3. R"
   ]
  },
  {
   "cell_type": "markdown",
   "id": "1989e59e-389f-4ccd-a47c-afdfb7411c29",
   "metadata": {},
   "source": [
    "Some of the commonly used libraries used by Data Scientists include:\n",
    "1. Matplotlib\n",
    "2. ggplot\n",
    "3. TensorFlow\n",
    "4. Keras"
   ]
  },
  {
   "cell_type": "markdown",
   "id": "ba590abd-5688-413d-8cf0-dedba028a2ec",
   "metadata": {},
   "source": [
    "|Data Science Tools|\n",
    "|---|\n",
    "|Jupyter Notebooks|\n",
    "|RStudio|\n",
    "|Google Colab|"
   ]
  },
  {
   "cell_type": "markdown",
   "id": "9666ac35-fc3d-43a2-85ec-5a78c0ff90d9",
   "metadata": {},
   "source": [
    "### Below are a few examples of evaluating arithmetic expressions in Python"
   ]
  },
  {
   "cell_type": "code",
   "execution_count": 1,
   "id": "f2d304f2-87b0-4742-b3d8-13c1078e35f8",
   "metadata": {},
   "outputs": [
    {
     "data": {
      "text/plain": [
       "17"
      ]
     },
     "execution_count": 1,
     "metadata": {},
     "output_type": "execute_result"
    }
   ],
   "source": [
    "# This a simple arithmetic expression to mutiply then add integers\n",
    "(3*4)+5"
   ]
  },
  {
   "cell_type": "code",
   "execution_count": 2,
   "id": "85056497-5e57-40e4-a541-f9e3eefcfd56",
   "metadata": {},
   "outputs": [
    {
     "data": {
      "text/plain": [
       "3.3333333333333335"
      ]
     },
     "execution_count": 2,
     "metadata": {},
     "output_type": "execute_result"
    }
   ],
   "source": [
    "# This will convert 200 minutes to hours by diving by 60\n",
    "200 / 60"
   ]
  }
 ],
 "metadata": {
  "kernelspec": {
   "display_name": "Python 3 (ipykernel)",
   "language": "python",
   "name": "python3"
  },
  "language_info": {
   "codemirror_mode": {
    "name": "ipython",
    "version": 3
   },
   "file_extension": ".py",
   "mimetype": "text/x-python",
   "name": "python",
   "nbconvert_exporter": "python",
   "pygments_lexer": "ipython3",
   "version": "3.11.9"
  }
 },
 "nbformat": 4,
 "nbformat_minor": 5
}
